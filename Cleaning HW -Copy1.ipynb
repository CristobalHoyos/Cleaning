{
 "cells": [
  {
   "cell_type": "code",
   "execution_count": 89,
   "id": "7e493a1d",
   "metadata": {
    "collapsed": true
   },
   "outputs": [
    {
     "data": {
      "text/html": [
       "<div>\n",
       "<style scoped>\n",
       "    .dataframe tbody tr th:only-of-type {\n",
       "        vertical-align: middle;\n",
       "    }\n",
       "\n",
       "    .dataframe tbody tr th {\n",
       "        vertical-align: top;\n",
       "    }\n",
       "\n",
       "    .dataframe thead th {\n",
       "        text-align: right;\n",
       "    }\n",
       "</style>\n",
       "<table border=\"1\" class=\"dataframe\">\n",
       "  <thead>\n",
       "    <tr style=\"text-align: right;\">\n",
       "      <th></th>\n",
       "      <th>Unnamed: 0</th>\n",
       "      <th>age</th>\n",
       "      <th>awesome_score</th>\n",
       "      <th>num_hairs</th>\n",
       "      <th>name</th>\n",
       "    </tr>\n",
       "  </thead>\n",
       "  <tbody>\n",
       "    <tr>\n",
       "      <th>0</th>\n",
       "      <td>0</td>\n",
       "      <td>86</td>\n",
       "      <td>0.696960</td>\n",
       "      <td>131717</td>\n",
       "      <td>Marcelle</td>\n",
       "    </tr>\n",
       "    <tr>\n",
       "      <th>1</th>\n",
       "      <td>1</td>\n",
       "      <td>86</td>\n",
       "      <td>0.112051</td>\n",
       "      <td>185038</td>\n",
       "      <td>Darlene</td>\n",
       "    </tr>\n",
       "    <tr>\n",
       "      <th>2</th>\n",
       "      <td>2</td>\n",
       "      <td>82</td>\n",
       "      <td>NaN</td>\n",
       "      <td>173644</td>\n",
       "      <td>Matilde</td>\n",
       "    </tr>\n",
       "    <tr>\n",
       "      <th>3</th>\n",
       "      <td>3</td>\n",
       "      <td>88</td>\n",
       "      <td>1.062127</td>\n",
       "      <td>161278</td>\n",
       "      <td>Marchelle</td>\n",
       "    </tr>\n",
       "    <tr>\n",
       "      <th>4</th>\n",
       "      <td>4</td>\n",
       "      <td>81</td>\n",
       "      <td>1.414369</td>\n",
       "      <td>84891</td>\n",
       "      <td>Jessy</td>\n",
       "    </tr>\n",
       "  </tbody>\n",
       "</table>\n",
       "</div>"
      ],
      "text/plain": [
       "   Unnamed: 0  age  awesome_score  num_hairs       name\n",
       "0           0   86       0.696960     131717   Marcelle\n",
       "1           1   86       0.112051     185038    Darlene\n",
       "2           2   82            NaN     173644    Matilde\n",
       "3           3   88       1.062127     161278  Marchelle\n",
       "4           4   81       1.414369      84891      Jessy"
      ]
     },
     "execution_count": 89,
     "metadata": {},
     "output_type": "execute_result"
    }
   ],
   "source": [
    "import pandas as pd\n",
    "import numpy as np\n",
    "df = pd.read_csv(\"exercise_data.csv\")\n",
    "df.head() #Dirty Data"
   ]
  },
  {
   "cell_type": "code",
   "execution_count": 90,
   "id": "c6b1838d",
   "metadata": {
    "collapsed": true
   },
   "outputs": [
    {
     "data": {
      "text/html": [
       "<div>\n",
       "<style scoped>\n",
       "    .dataframe tbody tr th:only-of-type {\n",
       "        vertical-align: middle;\n",
       "    }\n",
       "\n",
       "    .dataframe tbody tr th {\n",
       "        vertical-align: top;\n",
       "    }\n",
       "\n",
       "    .dataframe thead th {\n",
       "        text-align: right;\n",
       "    }\n",
       "</style>\n",
       "<table border=\"1\" class=\"dataframe\">\n",
       "  <thead>\n",
       "    <tr style=\"text-align: right;\">\n",
       "      <th></th>\n",
       "      <th>Unnamed: 0</th>\n",
       "      <th>age</th>\n",
       "      <th>awesome_score</th>\n",
       "      <th>num_hairs</th>\n",
       "    </tr>\n",
       "  </thead>\n",
       "  <tbody>\n",
       "    <tr>\n",
       "      <th>count</th>\n",
       "      <td>10000.00000</td>\n",
       "      <td>10000.000000</td>\n",
       "      <td>9022.000000</td>\n",
       "      <td>10000.000000</td>\n",
       "    </tr>\n",
       "    <tr>\n",
       "      <th>mean</th>\n",
       "      <td>4999.50000</td>\n",
       "      <td>59.153600</td>\n",
       "      <td>inf</td>\n",
       "      <td>112643.095600</td>\n",
       "    </tr>\n",
       "    <tr>\n",
       "      <th>std</th>\n",
       "      <td>2886.89568</td>\n",
       "      <td>24.023541</td>\n",
       "      <td>NaN</td>\n",
       "      <td>55812.533345</td>\n",
       "    </tr>\n",
       "    <tr>\n",
       "      <th>min</th>\n",
       "      <td>0.00000</td>\n",
       "      <td>18.000000</td>\n",
       "      <td>-1.999581</td>\n",
       "      <td>-50.000000</td>\n",
       "    </tr>\n",
       "    <tr>\n",
       "      <th>25%</th>\n",
       "      <td>2499.75000</td>\n",
       "      <td>38.000000</td>\n",
       "      <td>-0.964891</td>\n",
       "      <td>75664.750000</td>\n",
       "    </tr>\n",
       "    <tr>\n",
       "      <th>50%</th>\n",
       "      <td>4999.50000</td>\n",
       "      <td>60.000000</td>\n",
       "      <td>0.035636</td>\n",
       "      <td>117213.000000</td>\n",
       "    </tr>\n",
       "    <tr>\n",
       "      <th>75%</th>\n",
       "      <td>7499.25000</td>\n",
       "      <td>80.000000</td>\n",
       "      <td>1.016753</td>\n",
       "      <td>159127.250000</td>\n",
       "    </tr>\n",
       "    <tr>\n",
       "      <th>max</th>\n",
       "      <td>9999.00000</td>\n",
       "      <td>100.000000</td>\n",
       "      <td>inf</td>\n",
       "      <td>199998.000000</td>\n",
       "    </tr>\n",
       "  </tbody>\n",
       "</table>\n",
       "</div>"
      ],
      "text/plain": [
       "        Unnamed: 0           age  awesome_score      num_hairs\n",
       "count  10000.00000  10000.000000    9022.000000   10000.000000\n",
       "mean    4999.50000     59.153600            inf  112643.095600\n",
       "std     2886.89568     24.023541            NaN   55812.533345\n",
       "min        0.00000     18.000000      -1.999581     -50.000000\n",
       "25%     2499.75000     38.000000      -0.964891   75664.750000\n",
       "50%     4999.50000     60.000000       0.035636  117213.000000\n",
       "75%     7499.25000     80.000000       1.016753  159127.250000\n",
       "max     9999.00000    100.000000            inf  199998.000000"
      ]
     },
     "execution_count": 90,
     "metadata": {},
     "output_type": "execute_result"
    }
   ],
   "source": [
    "df.describe() #Dirty Data description (we can see \"inf\" in awesome_score column)"
   ]
  },
  {
   "cell_type": "code",
   "execution_count": 91,
   "id": "5c316fed",
   "metadata": {
    "collapsed": true
   },
   "outputs": [
    {
     "name": "stdout",
     "output_type": "stream",
     "text": [
      "<class 'pandas.core.frame.DataFrame'>\n",
      "RangeIndex: 10000 entries, 0 to 9999\n",
      "Data columns (total 5 columns):\n",
      " #   Column         Non-Null Count  Dtype  \n",
      "---  ------         --------------  -----  \n",
      " 0   Unnamed: 0     10000 non-null  int64  \n",
      " 1   age            10000 non-null  int64  \n",
      " 2   awesome_score  9022 non-null   float64\n",
      " 3   num_hairs      10000 non-null  int64  \n",
      " 4   name           9998 non-null   object \n",
      "dtypes: float64(1), int64(3), object(1)\n",
      "memory usage: 390.8+ KB\n"
     ]
    }
   ],
   "source": [
    "df.info() # 9022 values for \"awesome_score\" (dirty)"
   ]
  },
  {
   "cell_type": "code",
   "execution_count": 63,
   "id": "592c9ffe",
   "metadata": {
    "collapsed": true
   },
   "outputs": [
    {
     "data": {
      "text/plain": [
       "count     10000.000000\n",
       "mean     112643.095600\n",
       "std       55812.533345\n",
       "min         -50.000000\n",
       "25%       75664.750000\n",
       "50%      117213.000000\n",
       "75%      159127.250000\n",
       "max      199998.000000\n",
       "Name: num_hairs, dtype: float64"
      ]
     },
     "execution_count": 63,
     "metadata": {},
     "output_type": "execute_result"
    }
   ],
   "source": [
    "df['num_hairs'].describe() #Probably dont need cleaning since it didnt have \"inf\" in range, but its good practice (dirty)"
   ]
  },
  {
   "cell_type": "code",
   "execution_count": 64,
   "id": "fedc6145",
   "metadata": {
    "collapsed": true
   },
   "outputs": [
    {
     "data": {
      "text/plain": [
       "count    9022.000000\n",
       "mean             inf\n",
       "std              NaN\n",
       "min        -1.999581\n",
       "25%        -0.964891\n",
       "50%         0.035636\n",
       "75%         1.016753\n",
       "max              inf\n",
       "Name: awesome_score, dtype: float64"
      ]
     },
     "execution_count": 64,
     "metadata": {},
     "output_type": "execute_result"
    }
   ],
   "source": [
    "df['awesome_score'].describe() #Need to clean because it range is \"dirty\" because it goes to infinity (dirty)"
   ]
  },
  {
   "cell_type": "code",
   "execution_count": 65,
   "id": "5d0d3bef",
   "metadata": {
    "scrolled": true
   },
   "outputs": [],
   "source": [
    "df['num_hairs'].unique()\n",
    "df['num_hairs'].replace([np.inf, -np.inf], np.nan, inplace = True) #replace infinite values in \"num_hairs\" to clean it"
   ]
  },
  {
   "cell_type": "code",
   "execution_count": 66,
   "id": "440fd794",
   "metadata": {},
   "outputs": [],
   "source": [
    "df['awesome_score'].unique()\n",
    "df['awesome_score'].replace([np.inf, -np.inf], np.nan, inplace = True) #replace infinite values in \"awesome_score\" to clean it"
   ]
  },
  {
   "cell_type": "code",
   "execution_count": 67,
   "id": "1e457393",
   "metadata": {},
   "outputs": [
    {
     "data": {
      "text/html": [
       "<div>\n",
       "<style scoped>\n",
       "    .dataframe tbody tr th:only-of-type {\n",
       "        vertical-align: middle;\n",
       "    }\n",
       "\n",
       "    .dataframe tbody tr th {\n",
       "        vertical-align: top;\n",
       "    }\n",
       "\n",
       "    .dataframe thead th {\n",
       "        text-align: right;\n",
       "    }\n",
       "</style>\n",
       "<table border=\"1\" class=\"dataframe\">\n",
       "  <thead>\n",
       "    <tr style=\"text-align: right;\">\n",
       "      <th></th>\n",
       "      <th>Unnamed: 0</th>\n",
       "      <th>age</th>\n",
       "      <th>awesome_score</th>\n",
       "      <th>num_hairs</th>\n",
       "    </tr>\n",
       "  </thead>\n",
       "  <tbody>\n",
       "    <tr>\n",
       "      <th>count</th>\n",
       "      <td>10000.00000</td>\n",
       "      <td>10000.000000</td>\n",
       "      <td>9012.000000</td>\n",
       "      <td>10000.000000</td>\n",
       "    </tr>\n",
       "    <tr>\n",
       "      <th>mean</th>\n",
       "      <td>4999.50000</td>\n",
       "      <td>59.153600</td>\n",
       "      <td>0.020502</td>\n",
       "      <td>112643.095600</td>\n",
       "    </tr>\n",
       "    <tr>\n",
       "      <th>std</th>\n",
       "      <td>2886.89568</td>\n",
       "      <td>24.023541</td>\n",
       "      <td>1.149271</td>\n",
       "      <td>55812.533345</td>\n",
       "    </tr>\n",
       "    <tr>\n",
       "      <th>min</th>\n",
       "      <td>0.00000</td>\n",
       "      <td>18.000000</td>\n",
       "      <td>-1.999581</td>\n",
       "      <td>-50.000000</td>\n",
       "    </tr>\n",
       "    <tr>\n",
       "      <th>25%</th>\n",
       "      <td>2499.75000</td>\n",
       "      <td>38.000000</td>\n",
       "      <td>-0.965704</td>\n",
       "      <td>75664.750000</td>\n",
       "    </tr>\n",
       "    <tr>\n",
       "      <th>50%</th>\n",
       "      <td>4999.50000</td>\n",
       "      <td>60.000000</td>\n",
       "      <td>0.033622</td>\n",
       "      <td>117213.000000</td>\n",
       "    </tr>\n",
       "    <tr>\n",
       "      <th>75%</th>\n",
       "      <td>7499.25000</td>\n",
       "      <td>80.000000</td>\n",
       "      <td>1.014523</td>\n",
       "      <td>159127.250000</td>\n",
       "    </tr>\n",
       "    <tr>\n",
       "      <th>max</th>\n",
       "      <td>9999.00000</td>\n",
       "      <td>100.000000</td>\n",
       "      <td>1.999713</td>\n",
       "      <td>199998.000000</td>\n",
       "    </tr>\n",
       "  </tbody>\n",
       "</table>\n",
       "</div>"
      ],
      "text/plain": [
       "        Unnamed: 0           age  awesome_score      num_hairs\n",
       "count  10000.00000  10000.000000    9012.000000   10000.000000\n",
       "mean    4999.50000     59.153600       0.020502  112643.095600\n",
       "std     2886.89568     24.023541       1.149271   55812.533345\n",
       "min        0.00000     18.000000      -1.999581     -50.000000\n",
       "25%     2499.75000     38.000000      -0.965704   75664.750000\n",
       "50%     4999.50000     60.000000       0.033622  117213.000000\n",
       "75%     7499.25000     80.000000       1.014523  159127.250000\n",
       "max     9999.00000    100.000000       1.999713  199998.000000"
      ]
     },
     "execution_count": 67,
     "metadata": {},
     "output_type": "execute_result"
    }
   ],
   "source": [
    "df.describe() \n",
    "#Compare with the first descriptions of \"awesome_score\" and \"num_hairs\",\n",
    "#Worth noticing that count for \"awesome_scores\" dropped to 9012 from 9022, \n",
    "#meaning there were 10 \"inf\" values in this column but now its clean. (clean)"
   ]
  },
  {
   "cell_type": "code",
   "execution_count": 73,
   "id": "7ef3ca50",
   "metadata": {
    "collapsed": true
   },
   "outputs": [
    {
     "data": {
      "text/html": [
       "<div>\n",
       "<style scoped>\n",
       "    .dataframe tbody tr th:only-of-type {\n",
       "        vertical-align: middle;\n",
       "    }\n",
       "\n",
       "    .dataframe tbody tr th {\n",
       "        vertical-align: top;\n",
       "    }\n",
       "\n",
       "    .dataframe thead th {\n",
       "        text-align: right;\n",
       "    }\n",
       "</style>\n",
       "<table border=\"1\" class=\"dataframe\">\n",
       "  <thead>\n",
       "    <tr style=\"text-align: right;\">\n",
       "      <th></th>\n",
       "      <th>Unnamed: 0</th>\n",
       "      <th>name</th>\n",
       "      <th>num_apples</th>\n",
       "    </tr>\n",
       "  </thead>\n",
       "  <tbody>\n",
       "    <tr>\n",
       "      <th>0</th>\n",
       "      <td>0</td>\n",
       "      <td>Barbe</td>\n",
       "      <td>250</td>\n",
       "    </tr>\n",
       "    <tr>\n",
       "      <th>1</th>\n",
       "      <td>1</td>\n",
       "      <td>Marjory</td>\n",
       "      <td>210</td>\n",
       "    </tr>\n",
       "    <tr>\n",
       "      <th>2</th>\n",
       "      <td>2</td>\n",
       "      <td>Cherianne</td>\n",
       "      <td>324</td>\n",
       "    </tr>\n",
       "    <tr>\n",
       "      <th>3</th>\n",
       "      <td>3</td>\n",
       "      <td>Juline</td>\n",
       "      <td>121</td>\n",
       "    </tr>\n",
       "    <tr>\n",
       "      <th>4</th>\n",
       "      <td>4</td>\n",
       "      <td>Thomasina</td>\n",
       "      <td>327</td>\n",
       "    </tr>\n",
       "  </tbody>\n",
       "</table>\n",
       "</div>"
      ],
      "text/plain": [
       "   Unnamed: 0       name  num_apples\n",
       "0           0      Barbe         250\n",
       "1           1    Marjory         210\n",
       "2           2  Cherianne         324\n",
       "3           3     Juline         121\n",
       "4           4  Thomasina         327"
      ]
     },
     "execution_count": 73,
     "metadata": {},
     "output_type": "execute_result"
    }
   ],
   "source": [
    "#Cleaning 2nd File: create the reader and display the head \n",
    "\n",
    "merger_df = pd.read_csv(\"merge_exercise.csv\")\n",
    "merger_df.head()"
   ]
  },
  {
   "cell_type": "code",
   "execution_count": 74,
   "id": "e66af4a0",
   "metadata": {
    "collapsed": true
   },
   "outputs": [
    {
     "data": {
      "text/html": [
       "<div>\n",
       "<style scoped>\n",
       "    .dataframe tbody tr th:only-of-type {\n",
       "        vertical-align: middle;\n",
       "    }\n",
       "\n",
       "    .dataframe tbody tr th {\n",
       "        vertical-align: top;\n",
       "    }\n",
       "\n",
       "    .dataframe thead th {\n",
       "        text-align: right;\n",
       "    }\n",
       "</style>\n",
       "<table border=\"1\" class=\"dataframe\">\n",
       "  <thead>\n",
       "    <tr style=\"text-align: right;\">\n",
       "      <th></th>\n",
       "      <th>Unnamed: 0</th>\n",
       "      <th>num_apples</th>\n",
       "    </tr>\n",
       "  </thead>\n",
       "  <tbody>\n",
       "    <tr>\n",
       "      <th>count</th>\n",
       "      <td>200.000000</td>\n",
       "      <td>200.00000</td>\n",
       "    </tr>\n",
       "    <tr>\n",
       "      <th>mean</th>\n",
       "      <td>99.500000</td>\n",
       "      <td>511.16000</td>\n",
       "    </tr>\n",
       "    <tr>\n",
       "      <th>std</th>\n",
       "      <td>57.879185</td>\n",
       "      <td>297.65032</td>\n",
       "    </tr>\n",
       "    <tr>\n",
       "      <th>min</th>\n",
       "      <td>0.000000</td>\n",
       "      <td>3.00000</td>\n",
       "    </tr>\n",
       "    <tr>\n",
       "      <th>25%</th>\n",
       "      <td>49.750000</td>\n",
       "      <td>250.75000</td>\n",
       "    </tr>\n",
       "    <tr>\n",
       "      <th>50%</th>\n",
       "      <td>99.500000</td>\n",
       "      <td>544.50000</td>\n",
       "    </tr>\n",
       "    <tr>\n",
       "      <th>75%</th>\n",
       "      <td>149.250000</td>\n",
       "      <td>746.25000</td>\n",
       "    </tr>\n",
       "    <tr>\n",
       "      <th>max</th>\n",
       "      <td>199.000000</td>\n",
       "      <td>999.00000</td>\n",
       "    </tr>\n",
       "  </tbody>\n",
       "</table>\n",
       "</div>"
      ],
      "text/plain": [
       "       Unnamed: 0  num_apples\n",
       "count  200.000000   200.00000\n",
       "mean    99.500000   511.16000\n",
       "std     57.879185   297.65032\n",
       "min      0.000000     3.00000\n",
       "25%     49.750000   250.75000\n",
       "50%     99.500000   544.50000\n",
       "75%    149.250000   746.25000\n",
       "max    199.000000   999.00000"
      ]
     },
     "execution_count": 74,
     "metadata": {},
     "output_type": "execute_result"
    }
   ],
   "source": [
    "merger_df.describe() #Show description to check for infinite values (dirty dataset #2)"
   ]
  },
  {
   "cell_type": "code",
   "execution_count": 75,
   "id": "57db326c",
   "metadata": {
    "collapsed": true
   },
   "outputs": [
    {
     "name": "stdout",
     "output_type": "stream",
     "text": [
      "<class 'pandas.core.frame.DataFrame'>\n",
      "RangeIndex: 200 entries, 0 to 199\n",
      "Data columns (total 3 columns):\n",
      " #   Column      Non-Null Count  Dtype \n",
      "---  ------      --------------  ----- \n",
      " 0   Unnamed: 0  200 non-null    int64 \n",
      " 1   name        200 non-null    object\n",
      " 2   num_apples  200 non-null    int64 \n",
      "dtypes: int64(2), object(1)\n",
      "memory usage: 4.8+ KB\n"
     ]
    }
   ],
   "source": [
    "merger_df.info() #All values are fixed at 200, no discrepancies (dirty dataset #2)"
   ]
  },
  {
   "cell_type": "code",
   "execution_count": 84,
   "id": "3af69c72",
   "metadata": {},
   "outputs": [],
   "source": [
    "merger_df['num_apples'].unique() #Just for good practice \"clean\" the data from any infinite values\n",
    "merger_df['num_apples'].replace([np.inf, -np.inf], np.nan, inplace = True) #replace infinite values"
   ]
  },
  {
   "cell_type": "code",
   "execution_count": 85,
   "id": "077ca11d",
   "metadata": {},
   "outputs": [],
   "source": [
    "merger_df['Unnamed: 0'].unique()#Same for \"Unnamed\" column\n",
    "merger_df['Unnamed: 0'].replace([np.inf, -np.inf], np.nan, inplace = True) #replace infinite values"
   ]
  },
  {
   "cell_type": "code",
   "execution_count": 86,
   "id": "170df515",
   "metadata": {
    "collapsed": true
   },
   "outputs": [
    {
     "data": {
      "text/html": [
       "<div>\n",
       "<style scoped>\n",
       "    .dataframe tbody tr th:only-of-type {\n",
       "        vertical-align: middle;\n",
       "    }\n",
       "\n",
       "    .dataframe tbody tr th {\n",
       "        vertical-align: top;\n",
       "    }\n",
       "\n",
       "    .dataframe thead th {\n",
       "        text-align: right;\n",
       "    }\n",
       "</style>\n",
       "<table border=\"1\" class=\"dataframe\">\n",
       "  <thead>\n",
       "    <tr style=\"text-align: right;\">\n",
       "      <th></th>\n",
       "      <th>Unnamed: 0</th>\n",
       "      <th>num_apples</th>\n",
       "    </tr>\n",
       "  </thead>\n",
       "  <tbody>\n",
       "    <tr>\n",
       "      <th>count</th>\n",
       "      <td>200.000000</td>\n",
       "      <td>200.00000</td>\n",
       "    </tr>\n",
       "    <tr>\n",
       "      <th>mean</th>\n",
       "      <td>99.500000</td>\n",
       "      <td>511.16000</td>\n",
       "    </tr>\n",
       "    <tr>\n",
       "      <th>std</th>\n",
       "      <td>57.879185</td>\n",
       "      <td>297.65032</td>\n",
       "    </tr>\n",
       "    <tr>\n",
       "      <th>min</th>\n",
       "      <td>0.000000</td>\n",
       "      <td>3.00000</td>\n",
       "    </tr>\n",
       "    <tr>\n",
       "      <th>25%</th>\n",
       "      <td>49.750000</td>\n",
       "      <td>250.75000</td>\n",
       "    </tr>\n",
       "    <tr>\n",
       "      <th>50%</th>\n",
       "      <td>99.500000</td>\n",
       "      <td>544.50000</td>\n",
       "    </tr>\n",
       "    <tr>\n",
       "      <th>75%</th>\n",
       "      <td>149.250000</td>\n",
       "      <td>746.25000</td>\n",
       "    </tr>\n",
       "    <tr>\n",
       "      <th>max</th>\n",
       "      <td>199.000000</td>\n",
       "      <td>999.00000</td>\n",
       "    </tr>\n",
       "  </tbody>\n",
       "</table>\n",
       "</div>"
      ],
      "text/plain": [
       "       Unnamed: 0  num_apples\n",
       "count  200.000000   200.00000\n",
       "mean    99.500000   511.16000\n",
       "std     57.879185   297.65032\n",
       "min      0.000000     3.00000\n",
       "25%     49.750000   250.75000\n",
       "50%     99.500000   544.50000\n",
       "75%    149.250000   746.25000\n",
       "max    199.000000   999.00000"
      ]
     },
     "execution_count": 86,
     "metadata": {},
     "output_type": "execute_result"
    }
   ],
   "source": [
    "merger_df.describe() #Compare with first description, in this case the data was already clean"
   ]
  },
  {
   "cell_type": "code",
   "execution_count": 87,
   "id": "173cf56f",
   "metadata": {},
   "outputs": [
    {
     "name": "stdout",
     "output_type": "stream",
     "text": [
      "(200, 3)\n",
      "(779, 7)\n"
     ]
    },
    {
     "data": {
      "text/html": [
       "<div>\n",
       "<style scoped>\n",
       "    .dataframe tbody tr th:only-of-type {\n",
       "        vertical-align: middle;\n",
       "    }\n",
       "\n",
       "    .dataframe tbody tr th {\n",
       "        vertical-align: top;\n",
       "    }\n",
       "\n",
       "    .dataframe thead th {\n",
       "        text-align: right;\n",
       "    }\n",
       "</style>\n",
       "<table border=\"1\" class=\"dataframe\">\n",
       "  <thead>\n",
       "    <tr style=\"text-align: right;\">\n",
       "      <th></th>\n",
       "      <th>Unnamed: 0_x</th>\n",
       "      <th>name</th>\n",
       "      <th>num_apples</th>\n",
       "      <th>Unnamed: 0_y</th>\n",
       "      <th>age</th>\n",
       "      <th>awesome_score</th>\n",
       "      <th>num_hairs</th>\n",
       "    </tr>\n",
       "  </thead>\n",
       "  <tbody>\n",
       "    <tr>\n",
       "      <th>0</th>\n",
       "      <td>0</td>\n",
       "      <td>Barbe</td>\n",
       "      <td>250</td>\n",
       "      <td>196</td>\n",
       "      <td>78</td>\n",
       "      <td>-1.448731</td>\n",
       "      <td>70631</td>\n",
       "    </tr>\n",
       "    <tr>\n",
       "      <th>1</th>\n",
       "      <td>0</td>\n",
       "      <td>Barbe</td>\n",
       "      <td>250</td>\n",
       "      <td>1333</td>\n",
       "      <td>73</td>\n",
       "      <td>-1.272561</td>\n",
       "      <td>128910</td>\n",
       "    </tr>\n",
       "    <tr>\n",
       "      <th>2</th>\n",
       "      <td>0</td>\n",
       "      <td>Barbe</td>\n",
       "      <td>250</td>\n",
       "      <td>4457</td>\n",
       "      <td>42</td>\n",
       "      <td>1.403834</td>\n",
       "      <td>78218</td>\n",
       "    </tr>\n",
       "    <tr>\n",
       "      <th>3</th>\n",
       "      <td>1</td>\n",
       "      <td>Marjory</td>\n",
       "      <td>210</td>\n",
       "      <td>3253</td>\n",
       "      <td>53</td>\n",
       "      <td>-0.519523</td>\n",
       "      <td>53579</td>\n",
       "    </tr>\n",
       "    <tr>\n",
       "      <th>4</th>\n",
       "      <td>1</td>\n",
       "      <td>Marjory</td>\n",
       "      <td>210</td>\n",
       "      <td>7722</td>\n",
       "      <td>76</td>\n",
       "      <td>NaN</td>\n",
       "      <td>132276</td>\n",
       "    </tr>\n",
       "  </tbody>\n",
       "</table>\n",
       "</div>"
      ],
      "text/plain": [
       "   Unnamed: 0_x     name  num_apples  Unnamed: 0_y  age  awesome_score  \\\n",
       "0             0    Barbe         250           196   78      -1.448731   \n",
       "1             0    Barbe         250          1333   73      -1.272561   \n",
       "2             0    Barbe         250          4457   42       1.403834   \n",
       "3             1  Marjory         210          3253   53      -0.519523   \n",
       "4             1  Marjory         210          7722   76            NaN   \n",
       "\n",
       "   num_hairs  \n",
       "0      70631  \n",
       "1     128910  \n",
       "2      78218  \n",
       "3      53579  \n",
       "4     132276  "
      ]
     },
     "execution_count": 87,
     "metadata": {},
     "output_type": "execute_result"
    }
   ],
   "source": [
    "#After both data sets are clean, merger them together using the column they have in common \"name\"\n",
    "print(merger_df.shape)\n",
    "new_df = merger_df.merge(df, on = \"name\")\n",
    "print(new_df.shape)\n",
    "new_df.head()"
   ]
  }
 ],
 "metadata": {
  "kernelspec": {
   "display_name": "Python 3 (ipykernel)",
   "language": "python",
   "name": "python3"
  },
  "language_info": {
   "codemirror_mode": {
    "name": "ipython",
    "version": 3
   },
   "file_extension": ".py",
   "mimetype": "text/x-python",
   "name": "python",
   "nbconvert_exporter": "python",
   "pygments_lexer": "ipython3",
   "version": "3.9.12"
  }
 },
 "nbformat": 4,
 "nbformat_minor": 5
}
